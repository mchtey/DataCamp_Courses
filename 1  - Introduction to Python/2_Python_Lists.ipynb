{
 "cells": [
  {
   "cell_type": "markdown",
   "id": "8a9927b6-7c4a-4314-843b-08f41c43f659",
   "metadata": {},
   "source": [
    "# <font color=gray>**Introduction to Python**</font>"
   ]
  },
  {
   "cell_type": "markdown",
   "id": "5a3c81cb-8b76-4f5e-aba2-945be8739eca",
   "metadata": {},
   "source": [
    "### <font color=orange>**Python Lists**</font>"
   ]
  },
  {
   "cell_type": "code",
   "execution_count": 1,
   "id": "53b64f13-7af3-4673-8d34-e51c9f3ccea0",
   "metadata": {},
   "outputs": [
    {
     "name": "stdout",
     "output_type": "stream",
     "text": [
      "[11.25, 18.0, 20.0, 10.75, 9.5]\n"
     ]
    }
   ],
   "source": [
    "# area variables (in square meters)\n",
    "hall = 11.25\n",
    "kit = 18.0\n",
    "liv = 20.0\n",
    "bed = 10.75\n",
    "bath = 9.50\n",
    "\n",
    "# Create list areas\n",
    "areas=[hall,kit,liv,bed,bath]\n",
    "\n",
    "# Print areas\n",
    "print(areas)"
   ]
  },
  {
   "cell_type": "code",
   "execution_count": 2,
   "id": "6db8ac47-15c5-4918-b3ca-c6aab39b6819",
   "metadata": {},
   "outputs": [
    {
     "name": "stdout",
     "output_type": "stream",
     "text": [
      "['hallway', 11.25, 'kitchen', 18.0, 'living room', 20.0, 'bedroom', 10.75, 'bathroom', 9.5]\n"
     ]
    }
   ],
   "source": [
    "# area variables (in square meters)\n",
    "hall = 11.25\n",
    "kit = 18.0\n",
    "liv = 20.0\n",
    "bed = 10.75\n",
    "bath = 9.50\n",
    "\n",
    "# Adapt list areas\n",
    "areas = ['hallway',hall,'kitchen',kit, \"living room\", liv,'bedroom',bed, \"bathroom\", bath]\n",
    "\n",
    "# Print areas\n",
    "print(areas)"
   ]
  },
  {
   "cell_type": "code",
   "execution_count": 5,
   "id": "2f12668c-7de2-4fb1-8c30-22c788ef1a36",
   "metadata": {},
   "outputs": [
    {
     "name": "stdout",
     "output_type": "stream",
     "text": [
      "[1, 3, 4, 2]\n",
      "[[1, 2, 3], [4, 5, 7]]\n",
      "[3, 'aaaaa', 3]\n"
     ]
    }
   ],
   "source": [
    "#Can you tell which ones of the following lines of Python code are valid ways to build a list?\n",
    "\n",
    "A=[1, 3, 4, 2]\n",
    "B=[[1, 2, 3], [4, 5, 7]]\n",
    "C=[1 + 2, \"a\" * 5, 3]\n",
    "print(A)\n",
    "print(B)\n",
    "print(C)\n",
    "#Answer:All"
   ]
  },
  {
   "cell_type": "code",
   "execution_count": 6,
   "id": "0f622f1b-51fb-4345-a60b-1bd85df59804",
   "metadata": {},
   "outputs": [
    {
     "name": "stdout",
     "output_type": "stream",
     "text": [
      "[['hallway', 11.25], ['kitchen', 18.0], ['living room', 20.0], ['bedroom', 10.75], ['bathroom', 9.5]]\n",
      "<class 'list'>\n"
     ]
    }
   ],
   "source": [
    "# area variables (in square meters)\n",
    "hall = 11.25\n",
    "kit = 18.0\n",
    "liv = 20.0\n",
    "bed = 10.75\n",
    "bath = 9.50\n",
    "\n",
    "# house information as list of lists\n",
    "house = [[\"hallway\", hall],\n",
    "         [\"kitchen\", kit],\n",
    "         [\"living room\", liv],\n",
    "         ['bedroom',bed],\n",
    "         ['bathroom',bath]]\n",
    "\n",
    "# Print out house\n",
    "\n",
    "print(house)\n",
    "# Print out the type of house\n",
    "print(type(house))"
   ]
  },
  {
   "cell_type": "code",
   "execution_count": 7,
   "id": "bcbd0883-1532-4137-8d9e-2c424c553964",
   "metadata": {},
   "outputs": [],
   "source": [
    "#Subsettings"
   ]
  },
  {
   "cell_type": "code",
   "execution_count": 8,
   "id": "b3746d92-343e-4372-8872-5a5add77cd17",
   "metadata": {},
   "outputs": [
    {
     "name": "stdout",
     "output_type": "stream",
     "text": [
      "11.25\n",
      "9.5\n",
      "20.0\n"
     ]
    }
   ],
   "source": [
    "# Create the areas list\n",
    "areas = [\"hallway\", 11.25, \"kitchen\", 18.0, \"living room\", 20.0, \"bedroom\", 10.75, \"bathroom\", 9.50]\n",
    "\n",
    "# Print out second element from areas\n",
    "print(areas[1])\n",
    "\n",
    "# Print out last element from areas\n",
    "print(areas[-1])\n",
    "\n",
    "# Print out the area of the living room\n",
    "print(areas[5])"
   ]
  },
  {
   "cell_type": "code",
   "execution_count": 9,
   "id": "a3923600-e2e6-442f-9b78-399710376f7b",
   "metadata": {},
   "outputs": [
    {
     "name": "stdout",
     "output_type": "stream",
     "text": [
      "28.75\n"
     ]
    }
   ],
   "source": [
    "# Create the areas list\n",
    "areas = [\"hallway\", 11.25, \"kitchen\", 18.0, \"living room\", 20.0, \"bedroom\", 10.75, \"bathroom\", 9.50]\n",
    "\n",
    "# Sum of kitchen and bedroom area: eat_sleep_area\n",
    "eat_sleep_area=areas[3]+areas[7]\n",
    "\n",
    "# Print the variable eat_sleep_area\n",
    "print(eat_sleep_area)"
   ]
  },
  {
   "cell_type": "code",
   "execution_count": 10,
   "id": "748fcbc8-e0c1-4fe0-a25b-08388f51a03b",
   "metadata": {},
   "outputs": [
    {
     "name": "stdout",
     "output_type": "stream",
     "text": [
      "['hallway', 11.25, 'kitchen', 18.0, 'living room', 20.0] ['bedroom', 10.75, 'bathroom', 9.5]\n"
     ]
    }
   ],
   "source": [
    "# Create the areas list\n",
    "areas = [\"hallway\", 11.25, \"kitchen\", 18.0, \"living room\", 20.0, \"bedroom\", 10.75, \"bathroom\", 9.50]\n",
    "\n",
    "# Use slicing to create downstairs\n",
    "downstairs=areas[0:6]\n",
    "\n",
    "# Use slicing to create upstairs\n",
    "upstairs=areas[6:]\n",
    "\n",
    "# Print out downstairs and upstairs\n",
    "print(downstairs,upstairs)"
   ]
  },
  {
   "cell_type": "code",
   "execution_count": 11,
   "id": "e1aa131e-4ef4-4c4c-a109-11707eacb0d0",
   "metadata": {},
   "outputs": [
    {
     "name": "stdout",
     "output_type": "stream",
     "text": [
      "['hallway', 11.25, 'kitchen', 18.0, 'living room', 20.0]\n",
      "['bedroom', 10.75, 'bathroom', 9.5]\n"
     ]
    }
   ],
   "source": [
    "# Create the areas list\n",
    "areas = [\"hallway\", 11.25, \"kitchen\", 18.0, \"living room\", 20.0, \"bedroom\", 10.75, \"bathroom\", 9.50]\n",
    "\n",
    "# Alternative slicing to create downstairs\n",
    "downstairs=areas[:6]\n",
    "print(downstairs)\n",
    "# Alternative slicing to create upstairs\n",
    "upstairs=areas[6:]\n",
    "print(upstairs)"
   ]
  },
  {
   "cell_type": "code",
   "execution_count": 12,
   "id": "a9a1ae66-dccc-4c9d-a8d6-7e4aadebeabf",
   "metadata": {},
   "outputs": [
    {
     "data": {
      "text/plain": [
       "9.5"
      ]
     },
     "execution_count": 12,
     "metadata": {},
     "output_type": "execute_result"
    }
   ],
   "source": [
    "house=[['hallway', 11.25],\n",
    " ['kitchen', 18.0],\n",
    " ['living room', 20.0],\n",
    " ['bedroom', 10.75],\n",
    " ['bathroom', 9.5]]\n",
    "\n",
    "house[-1][1]  # --> ?"
   ]
  },
  {
   "cell_type": "code",
   "execution_count": 14,
   "id": "63a1f0a6-1eb7-477e-b682-29df87e9b103",
   "metadata": {},
   "outputs": [
    {
     "name": "stdout",
     "output_type": "stream",
     "text": [
      "['hallway', 11.25, 'kitchen', 18.0, 'chill zone', 20.0, 'bedroom', 10.75, 'bathroom', 10.5]\n"
     ]
    }
   ],
   "source": [
    "# Create the areas list\n",
    "areas = [\"hallway\", 11.25, \"kitchen\", 18.0, \"living room\", 20.0, \"bedroom\", 10.75, \"bathroom\", 9.50]\n",
    "\n",
    "# Correct the bathroom area\n",
    "areas[-1]=10.50\n",
    "\n",
    "# Change \"living room\" to \"chill zone\"\n",
    "areas[4]='chill zone'\n",
    "\n",
    "print(areas)"
   ]
  },
  {
   "cell_type": "code",
   "execution_count": 16,
   "id": "50ffd7f6-5203-43b3-8916-8e5b521bf687",
   "metadata": {},
   "outputs": [
    {
     "name": "stdout",
     "output_type": "stream",
     "text": [
      "['hallway', 11.25, 'kitchen', 18.0, 'chill zone', 20.0, 'bedroom', 10.75, 'bathroom', 10.5, 'poolhouse', 24.5]\n",
      "['hallway', 11.25, 'kitchen', 18.0, 'chill zone', 20.0, 'bedroom', 10.75, 'bathroom', 10.5, 'poolhouse', 24.5, 'garage', 15.45]\n"
     ]
    }
   ],
   "source": [
    "# Create the areas list and make some changes\n",
    "areas = [\"hallway\", 11.25, \"kitchen\", 18.0, \"chill zone\", 20.0,\n",
    "         \"bedroom\", 10.75, \"bathroom\", 10.50]\n",
    "\n",
    "# Add poolhouse data to areas, new list is areas_1\n",
    "areas_1=areas+['poolhouse',24.5]\n",
    "print(areas_1)\n",
    "# Add garage data to areas_1, new list is areas_2\n",
    "areas_2=areas_1+['garage',15.45]\n",
    "print(areas_2)"
   ]
  },
  {
   "cell_type": "code",
   "execution_count": 18,
   "id": "9eba12fc-e793-4a38-80bc-f18ebcc204fb",
   "metadata": {
    "collapsed": true,
    "jupyter": {
     "outputs_hidden": true
    },
    "tags": []
   },
   "outputs": [
    {
     "data": {
      "text/plain": [
       "'\\n# Same line\\ncommand1; command2\\n\\n# Separate lines\\ncommand1\\ncommand2\\n'"
      ]
     },
     "execution_count": 18,
     "metadata": {},
     "output_type": "execute_result"
    }
   ],
   "source": [
    "'''\n",
    "# Same line\n",
    "command1; command2\n",
    "\n",
    "# Separate lines\n",
    "command1\n",
    "command2\n",
    "'''"
   ]
  },
  {
   "cell_type": "code",
   "execution_count": 22,
   "id": "d076196c-d3c8-4d8f-beac-889cb8537a06",
   "metadata": {},
   "outputs": [
    {
     "name": "stdout",
     "output_type": "stream",
     "text": [
      "['hallway', 11.25, 'kitchen', 18.0, 'chill zone', 20.0, 'bedroom', 10.75, 'bathroom', 10.5, 'garage', 15.45]\n"
     ]
    }
   ],
   "source": [
    "areas=['hallway',11.25,'kitchen',18.0,'chill zone',20.0,'bedroom',10.75,'bathroom',10.5,'poolhouse',24.5,'garage',15.45]\n",
    "\n",
    "#decide to remove the corresponding string and float from the areas list.\n",
    "\n",
    "#del(areas[10]);del(areas[10])\n",
    "#or\n",
    "del(areas[-4:-2])\n",
    "print(areas)"
   ]
  },
  {
   "cell_type": "code",
   "execution_count": 26,
   "id": "80f95c17-5476-4f21-b8ba-61a7b184b37d",
   "metadata": {},
   "outputs": [
    {
     "name": "stdout",
     "output_type": "stream",
     "text": [
      "[5.0, 18.0, 20.0, 10.75, 9.5] False\n",
      "[11.25, 18.0, 20.0, 10.75, 9.5] True\n"
     ]
    }
   ],
   "source": [
    "# Create list areas\n",
    "areas = [11.25, 18.0, 20.0, 10.75, 9.50]\n",
    "\n",
    "# Create areas_copy\n",
    "areas_copy = areas\n",
    "\n",
    "# Change areas_copy\n",
    "areas_copy[0] = 5.0\n",
    "\n",
    "# Print areas\n",
    "print(areas,'False')\n",
    "\n",
    "'''\n",
    "Change the second command, \n",
    "that creates the variable areas_copy, \n",
    "such that areas_copy is an explicit copy of areas. \n",
    "After your edit, changes made to areas_copy shouldn't affect areas. \n",
    "Submit the answer to check this.\n",
    "'''\n",
    "\n",
    "# Create list areas\n",
    "areas = [11.25, 18.0, 20.0, 10.75, 9.50]\n",
    "\n",
    "# Create areas_copy\n",
    "areas_copy = areas[:]\n",
    "\n",
    "# Change areas_copy\n",
    "areas_copy[0] = 5.0\n",
    "\n",
    "# Print areas\n",
    "print(areas,'True')"
   ]
  },
  {
   "cell_type": "code",
   "execution_count": null,
   "id": "ef0a6e86-3684-4b55-889b-8f8073f2f4ff",
   "metadata": {},
   "outputs": [],
   "source": []
  }
 ],
 "metadata": {
  "kernelspec": {
   "display_name": "Python 3 (ipykernel)",
   "language": "python",
   "name": "python3"
  },
  "language_info": {
   "codemirror_mode": {
    "name": "ipython",
    "version": 3
   },
   "file_extension": ".py",
   "mimetype": "text/x-python",
   "name": "python",
   "nbconvert_exporter": "python",
   "pygments_lexer": "ipython3",
   "version": "3.9.8"
  }
 },
 "nbformat": 4,
 "nbformat_minor": 5
}
