{
 "cells": [
  {
   "cell_type": "markdown",
   "id": "85630024-7d47-4bc7-88fa-e60429a85099",
   "metadata": {},
   "source": [
    "# <font color=gray>**Intermediate Python**</font>"
   ]
  },
  {
   "cell_type": "markdown",
   "id": "016166f4-8980-4a60-8e70-1242f55d6127",
   "metadata": {},
   "source": [
    "### <font color=orange>**Dictionaries**</font>"
   ]
  },
  {
   "cell_type": "code",
   "execution_count": 1,
   "id": "dc0f9b52-452b-4127-b56a-0562a6241305",
   "metadata": {},
   "outputs": [
    {
     "name": "stdout",
     "output_type": "stream",
     "text": [
      "berlin\n"
     ]
    }
   ],
   "source": [
    "# Definition of countries and capital\n",
    "countries = ['spain', 'france', 'germany', 'norway']\n",
    "capitals = ['madrid', 'paris', 'berlin', 'oslo']\n",
    "\n",
    "# Get index of 'germany': ind_ger\n",
    "ind_ger=countries.index('germany')\n",
    "\n",
    "# Use ind_ger to print out capital of Germany\n",
    "print(capitals[ind_ger])"
   ]
  },
  {
   "cell_type": "code",
   "execution_count": 2,
   "id": "c63a75b7-8971-43a5-b163-3e43db33291f",
   "metadata": {},
   "outputs": [
    {
     "name": "stdout",
     "output_type": "stream",
     "text": [
      "{'spain': 'madrid', 'france': 'paris', 'germany': 'berlin', 'norway': 'oslo'}\n"
     ]
    }
   ],
   "source": [
    "# Definition of countries and capital\n",
    "countries = ['spain', 'france', 'germany', 'norway']\n",
    "capitals = ['madrid', 'paris', 'berlin', 'oslo']\n",
    "\n",
    "# From string in countries and capitals, create dictionary europe\n",
    "europe = {'spain':'madrid', 'france':'paris', 'germany':'berlin','norway':'oslo'}\n",
    "\n",
    "# Print europe\n",
    "print(europe)"
   ]
  },
  {
   "cell_type": "code",
   "execution_count": 3,
   "id": "ccea5a47-4c3d-45ea-a9f3-cf904f16ae93",
   "metadata": {},
   "outputs": [
    {
     "name": "stdout",
     "output_type": "stream",
     "text": [
      "dict_keys(['spain', 'france', 'germany', 'norway'])\n",
      "oslo\n"
     ]
    }
   ],
   "source": [
    "# Definition of dictionary\n",
    "europe = {'spain':'madrid', 'france':'paris', 'germany':'berlin', 'norway':'oslo' }\n",
    "\n",
    "# Print out the keys in europe\n",
    "print(europe.keys())\n",
    "\n",
    "# Print out value that belongs to key 'norway'\n",
    "print(europe['norway'])"
   ]
  },
  {
   "cell_type": "code",
   "execution_count": 4,
   "id": "648a4835-6207-4659-b54b-7d4e1e3dc5f5",
   "metadata": {},
   "outputs": [
    {
     "name": "stdout",
     "output_type": "stream",
     "text": [
      "True\n",
      "{'spain': 'madrid', 'france': 'paris', 'germany': 'berlin', 'norway': 'oslo', 'italy': 'rome', 'poland': 'warsaw'}\n"
     ]
    }
   ],
   "source": [
    "# Definition of dictionary\n",
    "europe = {'spain':'madrid', 'france':'paris', 'germany':'berlin', 'norway':'oslo' }\n",
    "\n",
    "# Add italy to europe\n",
    "europe['italy']='rome'\n",
    "\n",
    "# Print out italy in europe\n",
    "print('italy' in europe)\n",
    "\n",
    "# Add poland to europe\n",
    "europe['poland']='warsaw'\n",
    "\n",
    "# Print europe\n",
    "print(europe)"
   ]
  },
  {
   "cell_type": "code",
   "execution_count": 5,
   "id": "e8a18da5-132c-499b-aed5-13b81f5d59d2",
   "metadata": {},
   "outputs": [
    {
     "name": "stdout",
     "output_type": "stream",
     "text": [
      "True\n",
      "{'spain': 'madrid', 'france': 'paris', 'germany': 'berlin', 'norway': 'oslo', 'italy': 'rome', 'poland': 'warsaw'}\n"
     ]
    }
   ],
   "source": [
    "# Definition of dictionary\n",
    "europe = {'spain':'madrid', 'france':'paris', 'germany':'berlin', 'norway':'oslo' }\n",
    "\n",
    "# Add italy to europe\n",
    "europe['italy']='rome'\n",
    "\n",
    "# Print out italy in europe\n",
    "print('italy' in europe)\n",
    "\n",
    "# Add poland to europe\n",
    "europe['poland']='warsaw'\n",
    "\n",
    "# Print europe\n",
    "print(europe)"
   ]
  },
  {
   "cell_type": "code",
   "execution_count": 6,
   "id": "4666820a-62ec-4371-b95d-7aa2d859d5ef",
   "metadata": {},
   "outputs": [
    {
     "name": "stdout",
     "output_type": "stream",
     "text": [
      "paris\n",
      "{'spain': {'capital': 'madrid', 'population': 46.77}, 'france': {'capital': 'paris', 'population': 66.03}, 'germany': {'capital': 'berlin', 'population': 80.62}, 'norway': {'capital': 'oslo', 'population': 5.084}, 'italy': {'capital': 'rome', 'population': 59.83}}\n"
     ]
    }
   ],
   "source": [
    "# Dictionary of dictionaries\n",
    "europe = { 'spain': { 'capital':'madrid', 'population':46.77 },\n",
    "           'france': { 'capital':'paris', 'population':66.03 },\n",
    "           'germany': { 'capital':'berlin', 'population':80.62 },\n",
    "           'norway': { 'capital':'oslo', 'population':5.084 } }\n",
    "\n",
    "\n",
    "# Print out the capital of France\n",
    "print(europe['france']['capital'])\n",
    "\n",
    "# Create sub-dictionary data\n",
    "data={'capital':'rome','population':59.83}\n",
    "\n",
    "# Add data to europe under key 'italy'\n",
    "europe['italy']=data\n",
    "\n",
    "# Print europe\n",
    "print(europe)"
   ]
  },
  {
   "cell_type": "markdown",
   "id": "7cd4ecb7-215d-429e-b86c-d1110a6f885d",
   "metadata": {},
   "source": [
    "### <font color=orange>**Pandas**</font>"
   ]
  },
  {
   "cell_type": "code",
   "execution_count": 7,
   "id": "de3e4862-07e9-4ef3-a6a5-6ee0d88130bb",
   "metadata": {},
   "outputs": [
    {
     "name": "stdout",
     "output_type": "stream",
     "text": [
      "         country  drives_right  cars_per_cap\n",
      "0  United States          True           809\n",
      "1      Australia         False           731\n",
      "2          Japan         False           588\n",
      "3          India         False            18\n",
      "4         Russia          True           200\n",
      "5        Morocco          True            70\n",
      "6          Egypt          True            45\n"
     ]
    }
   ],
   "source": [
    "# Pre-defined lists\n",
    "names = ['United States', 'Australia', 'Japan', 'India', 'Russia', 'Morocco', 'Egypt']\n",
    "dr =  [True, False, False, False, True, True, True]\n",
    "cpc = [809, 731, 588, 18, 200, 70, 45]\n",
    "\n",
    "# Import pandas as pd\n",
    "import pandas as pd\n",
    "\n",
    "# Create dictionary my_dict with three key:value pairs: my_dict\n",
    "my_dict={'country':names,'drives_right':dr,'cars_per_cap':cpc}\n",
    "\n",
    "# Build a DataFrame cars from my_dict: cars\n",
    "cars=pd.DataFrame(my_dict)\n",
    "\n",
    "# Print cars\n",
    "print(cars)"
   ]
  },
  {
   "cell_type": "code",
   "execution_count": 9,
   "id": "9543025b-51d8-4c18-bade-10d231892166",
   "metadata": {},
   "outputs": [
    {
     "name": "stdout",
     "output_type": "stream",
     "text": [
      "         country  drives_right  cars_per_cap\n",
      "0  United States          True           809\n",
      "1      Australia         False           731\n",
      "2          Japan         False           588\n",
      "3          India         False            18\n",
      "4         Russia          True           200\n",
      "5        Morocco          True            70\n",
      "6          Egypt          True            45\n",
      "\n",
      "\n",
      "           country  drives_right  cars_per_cap\n",
      "US   United States          True           809\n",
      "AUS      Australia         False           731\n",
      "JPN          Japan         False           588\n",
      "IN           India         False            18\n",
      "RU          Russia          True           200\n",
      "MOR        Morocco          True            70\n",
      "EG           Egypt          True            45\n"
     ]
    }
   ],
   "source": [
    "import pandas as pd\n",
    "\n",
    "# Build cars DataFrame\n",
    "names = ['United States', 'Australia', 'Japan', 'India', 'Russia', 'Morocco', 'Egypt']\n",
    "dr =  [True, False, False, False, True, True, True]\n",
    "cpc = [809, 731, 588, 18, 200, 70, 45]\n",
    "cars_dict = { 'country':names, 'drives_right':dr, 'cars_per_cap':cpc }\n",
    "cars = pd.DataFrame(cars_dict)\n",
    "print(cars)\n",
    "print('\\n') #for space\n",
    "# Definition of row_labels\n",
    "row_labels = ['US', 'AUS', 'JPN', 'IN', 'RU', 'MOR', 'EG']\n",
    "\n",
    "# Specify row labels of cars\n",
    "cars.index=row_labels\n",
    "\n",
    "# Print cars again\n",
    "print(cars)"
   ]
  },
  {
   "cell_type": "code",
   "execution_count": 13,
   "id": "c2c00096-c4dd-4183-bc0a-60727c5183a7",
   "metadata": {},
   "outputs": [],
   "source": [
    "cars.to_csv('cars.csv')"
   ]
  },
  {
   "cell_type": "code",
   "execution_count": 14,
   "id": "95875cab-8415-4019-9c39-ce7e82acf4e4",
   "metadata": {},
   "outputs": [
    {
     "name": "stdout",
     "output_type": "stream",
     "text": [
      "  Unnamed: 0        country  drives_right  cars_per_cap\n",
      "0         US  United States          True           809\n",
      "1        AUS      Australia         False           731\n",
      "2        JPN          Japan         False           588\n",
      "3         IN          India         False            18\n",
      "4         RU         Russia          True           200\n",
      "5        MOR        Morocco          True            70\n",
      "6         EG          Egypt          True            45\n"
     ]
    }
   ],
   "source": [
    "# Import pandas as pd\n",
    "import pandas as pd\n",
    "\n",
    "# Import the cars.csv data: cars\n",
    "cars=pd.read_csv('cars.csv')\n",
    "\n",
    "# Print out cars\n",
    "print(cars)"
   ]
  },
  {
   "cell_type": "code",
   "execution_count": 15,
   "id": "8f3b892b-1f52-4272-948b-d4b348886fb4",
   "metadata": {},
   "outputs": [
    {
     "name": "stdout",
     "output_type": "stream",
     "text": [
      "           country  drives_right  cars_per_cap\n",
      "US   United States          True           809\n",
      "AUS      Australia         False           731\n",
      "JPN          Japan         False           588\n",
      "IN           India         False            18\n",
      "RU          Russia          True           200\n",
      "MOR        Morocco          True            70\n",
      "EG           Egypt          True            45\n"
     ]
    }
   ],
   "source": [
    "# Import pandas as pd\n",
    "import pandas as pd\n",
    "\n",
    "# Fix import by including index_col\n",
    "cars = pd.read_csv('cars.csv',index_col=0)\n",
    "\n",
    "# Print out cars\n",
    "print(cars)"
   ]
  },
  {
   "cell_type": "code",
   "execution_count": 17,
   "id": "1e38c491-7c68-4034-9e5e-6715b28e7081",
   "metadata": {},
   "outputs": [
    {
     "name": "stdout",
     "output_type": "stream",
     "text": [
      "US     United States\n",
      "AUS        Australia\n",
      "JPN            Japan\n",
      "IN             India\n",
      "RU            Russia\n",
      "MOR          Morocco\n",
      "EG             Egypt\n",
      "Name: country, dtype: object\n",
      "\n",
      "\n",
      "           country\n",
      "US   United States\n",
      "AUS      Australia\n",
      "JPN          Japan\n",
      "IN           India\n",
      "RU          Russia\n",
      "MOR        Morocco\n",
      "EG           Egypt\n",
      "\n",
      "\n",
      "           country  drives_right\n",
      "US   United States          True\n",
      "AUS      Australia         False\n",
      "JPN          Japan         False\n",
      "IN           India         False\n",
      "RU          Russia          True\n",
      "MOR        Morocco          True\n",
      "EG           Egypt          True\n"
     ]
    }
   ],
   "source": [
    "# Import cars data\n",
    "import pandas as pd\n",
    "cars = pd.read_csv('cars.csv', index_col = 0)\n",
    "\n",
    "# Print out country column as Pandas Series\n",
    "print(cars['country'])\n",
    "print('\\n')\n",
    "# Print out country column as Pandas DataFrame\n",
    "print(cars[['country']])\n",
    "print('\\n')\n",
    "# Print out DataFrame with country and drives_right columns\n",
    "print(cars[['country','drives_right']])"
   ]
  },
  {
   "cell_type": "code",
   "execution_count": 19,
   "id": "c63f9444-84a5-432d-9ec4-3ae16863e523",
   "metadata": {},
   "outputs": [
    {
     "name": "stdout",
     "output_type": "stream",
     "text": [
      "           country  drives_right  cars_per_cap\n",
      "US   United States          True           809\n",
      "AUS      Australia         False           731\n",
      "JPN          Japan         False           588\n",
      "\n",
      "\n",
      "     country  drives_right  cars_per_cap\n",
      "IN     India         False            18\n",
      "RU    Russia          True           200\n",
      "MOR  Morocco          True            70\n"
     ]
    }
   ],
   "source": [
    "# Import cars data\n",
    "import pandas as pd\n",
    "cars = pd.read_csv('cars.csv', index_col = 0)\n",
    "\n",
    "# Print out first 3 observations\n",
    "print(cars[:3])\n",
    "print('\\n')\n",
    "# Print out fourth, fifth and sixth observation\n",
    "print(cars[3:6])"
   ]
  },
  {
   "cell_type": "code",
   "execution_count": 21,
   "id": "d299d821-2493-4ffe-9a86-ce17e56a88ac",
   "metadata": {},
   "outputs": [
    {
     "name": "stdout",
     "output_type": "stream",
     "text": [
      "country         Japan\n",
      "drives_right    False\n",
      "cars_per_cap      588\n",
      "Name: JPN, dtype: object\n",
      "\n",
      "\n",
      "       country  drives_right  cars_per_cap\n",
      "AUS  Australia         False           731\n",
      "EG       Egypt          True            45\n"
     ]
    }
   ],
   "source": [
    "# Import cars data\n",
    "import pandas as pd\n",
    "cars = pd.read_csv('cars.csv', index_col = 0)\n",
    "\n",
    "# Print out observation for Japan\n",
    "print(cars.loc['JPN'])\n",
    "print('\\n')\n",
    "# Print out observations for Australia and Egypt\n",
    "print(cars.loc[['AUS','EG']])"
   ]
  },
  {
   "cell_type": "code",
   "execution_count": 22,
   "id": "94773ba0-5861-408f-a056-b2795f4d1445",
   "metadata": {},
   "outputs": [
    {
     "name": "stdout",
     "output_type": "stream",
     "text": [
      "MOR    True\n",
      "Name: drives_right, dtype: bool\n",
      "\n",
      "\n",
      "     country  drives_right\n",
      "RU    Russia          True\n",
      "MOR  Morocco          True\n"
     ]
    }
   ],
   "source": [
    "# Import cars data\n",
    "import pandas as pd\n",
    "cars = pd.read_csv('cars.csv', index_col = 0)\n",
    "\n",
    "# Print out drives_right value of Morocco\n",
    "print(cars.loc[['MOR'],'drives_right'])\n",
    "print('\\n')\n",
    "# Print sub-DataFrame\n",
    "print(cars.loc[['RU','MOR'],['country','drives_right']])"
   ]
  },
  {
   "cell_type": "code",
   "execution_count": 24,
   "id": "01dca994-c07b-4506-8919-1e8dd5aaa9d7",
   "metadata": {},
   "outputs": [
    {
     "name": "stdout",
     "output_type": "stream",
     "text": [
      "US      True\n",
      "AUS    False\n",
      "JPN    False\n",
      "IN     False\n",
      "RU      True\n",
      "MOR     True\n",
      "EG      True\n",
      "Name: drives_right, dtype: bool\n",
      "\n",
      "\n",
      "     drives_right\n",
      "US           True\n",
      "AUS         False\n",
      "JPN         False\n",
      "IN          False\n",
      "RU           True\n",
      "MOR          True\n",
      "EG           True\n",
      "\n",
      "\n",
      "     cars_per_cap  drives_right\n",
      "US            809          True\n",
      "AUS           731         False\n",
      "JPN           588         False\n",
      "IN             18         False\n",
      "RU            200          True\n",
      "MOR            70          True\n",
      "EG             45          True\n"
     ]
    }
   ],
   "source": [
    "# Import cars data\n",
    "import pandas as pd\n",
    "cars = pd.read_csv('cars.csv', index_col = 0)\n",
    "\n",
    "# Print out drives_right column as Series\n",
    "print(cars.loc[:,'drives_right'])\n",
    "print('\\n')\n",
    "\n",
    "# Print out drives_right column as DataFrame\n",
    "print(cars.loc[:,['drives_right']])\n",
    "print('\\n')\n",
    "\n",
    "# Print out cars_per_cap and drives_right as DataFrame\n",
    "print(cars.loc[:,['cars_per_cap','drives_right']])\n"
   ]
  },
  {
   "cell_type": "code",
   "execution_count": null,
   "id": "78168ed2-cf2b-4bef-956d-0f452af0d665",
   "metadata": {},
   "outputs": [],
   "source": []
  }
 ],
 "metadata": {
  "kernelspec": {
   "display_name": "Python 3 (ipykernel)",
   "language": "python",
   "name": "python3"
  },
  "language_info": {
   "codemirror_mode": {
    "name": "ipython",
    "version": 3
   },
   "file_extension": ".py",
   "mimetype": "text/x-python",
   "name": "python",
   "nbconvert_exporter": "python",
   "pygments_lexer": "ipython3",
   "version": "3.9.8"
  }
 },
 "nbformat": 4,
 "nbformat_minor": 5
}
