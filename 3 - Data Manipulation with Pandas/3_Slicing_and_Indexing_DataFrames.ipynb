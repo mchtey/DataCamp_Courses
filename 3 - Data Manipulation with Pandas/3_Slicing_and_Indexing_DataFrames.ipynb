{
 "cells": [
  {
   "cell_type": "markdown",
   "id": "18ac655d-3e8a-42f8-bfa5-1f62fa12295a",
   "metadata": {},
   "source": [
    "# <font color=gray>**Data Manipulation with pandas**</font>"
   ]
  },
  {
   "cell_type": "markdown",
   "id": "6ee40d71-7c55-4a70-bdc7-a81aee0670cc",
   "metadata": {},
   "source": [
    "### <font color=orange>**Slicing and Indexing DataFrames**</font>"
   ]
  },
  {
   "cell_type": "code",
   "execution_count": 13,
   "id": "7576d786-1dae-4a93-b7dd-ea9f71e4a809",
   "metadata": {},
   "outputs": [],
   "source": [
    "import pandas as pd\n",
    "temperatures=pd.read_csv('temperatures.csv')"
   ]
  },
  {
   "cell_type": "code",
   "execution_count": 2,
   "id": "aaede1f7-24d2-4096-906a-1d7d9a26c686",
   "metadata": {},
   "outputs": [
    {
     "data": {
      "text/html": [
       "<div>\n",
       "<style scoped>\n",
       "    .dataframe tbody tr th:only-of-type {\n",
       "        vertical-align: middle;\n",
       "    }\n",
       "\n",
       "    .dataframe tbody tr th {\n",
       "        vertical-align: top;\n",
       "    }\n",
       "\n",
       "    .dataframe thead th {\n",
       "        text-align: right;\n",
       "    }\n",
       "</style>\n",
       "<table border=\"1\" class=\"dataframe\">\n",
       "  <thead>\n",
       "    <tr style=\"text-align: right;\">\n",
       "      <th></th>\n",
       "      <th>Unnamed: 0</th>\n",
       "      <th>date</th>\n",
       "      <th>city</th>\n",
       "      <th>country</th>\n",
       "      <th>avg_temp_c</th>\n",
       "    </tr>\n",
       "  </thead>\n",
       "  <tbody>\n",
       "    <tr>\n",
       "      <th>0</th>\n",
       "      <td>0</td>\n",
       "      <td>2000-01-01</td>\n",
       "      <td>Abidjan</td>\n",
       "      <td>Côte D'Ivoire</td>\n",
       "      <td>27.293</td>\n",
       "    </tr>\n",
       "    <tr>\n",
       "      <th>1</th>\n",
       "      <td>1</td>\n",
       "      <td>2000-02-01</td>\n",
       "      <td>Abidjan</td>\n",
       "      <td>Côte D'Ivoire</td>\n",
       "      <td>27.685</td>\n",
       "    </tr>\n",
       "    <tr>\n",
       "      <th>2</th>\n",
       "      <td>2</td>\n",
       "      <td>2000-03-01</td>\n",
       "      <td>Abidjan</td>\n",
       "      <td>Côte D'Ivoire</td>\n",
       "      <td>29.061</td>\n",
       "    </tr>\n",
       "    <tr>\n",
       "      <th>3</th>\n",
       "      <td>3</td>\n",
       "      <td>2000-04-01</td>\n",
       "      <td>Abidjan</td>\n",
       "      <td>Côte D'Ivoire</td>\n",
       "      <td>28.162</td>\n",
       "    </tr>\n",
       "    <tr>\n",
       "      <th>4</th>\n",
       "      <td>4</td>\n",
       "      <td>2000-05-01</td>\n",
       "      <td>Abidjan</td>\n",
       "      <td>Côte D'Ivoire</td>\n",
       "      <td>27.547</td>\n",
       "    </tr>\n",
       "  </tbody>\n",
       "</table>\n",
       "</div>"
      ],
      "text/plain": [
       "   Unnamed: 0        date     city        country  avg_temp_c\n",
       "0           0  2000-01-01  Abidjan  Côte D'Ivoire      27.293\n",
       "1           1  2000-02-01  Abidjan  Côte D'Ivoire      27.685\n",
       "2           2  2000-03-01  Abidjan  Côte D'Ivoire      29.061\n",
       "3           3  2000-04-01  Abidjan  Côte D'Ivoire      28.162\n",
       "4           4  2000-05-01  Abidjan  Côte D'Ivoire      27.547"
      ]
     },
     "execution_count": 2,
     "metadata": {},
     "output_type": "execute_result"
    }
   ],
   "source": [
    "temperatures.head()"
   ]
  },
  {
   "cell_type": "code",
   "execution_count": 3,
   "id": "eabc1212-2a44-4415-8919-efc2070e05fc",
   "metadata": {},
   "outputs": [
    {
     "name": "stdout",
     "output_type": "stream",
     "text": [
      "       Unnamed: 0        date     city        country  avg_temp_c\n",
      "0               0  2000-01-01  Abidjan  Côte D'Ivoire      27.293\n",
      "1               1  2000-02-01  Abidjan  Côte D'Ivoire      27.685\n",
      "2               2  2000-03-01  Abidjan  Côte D'Ivoire      29.061\n",
      "3               3  2000-04-01  Abidjan  Côte D'Ivoire      28.162\n",
      "4               4  2000-05-01  Abidjan  Côte D'Ivoire      27.547\n",
      "...           ...         ...      ...            ...         ...\n",
      "16495       16495  2013-05-01     Xian          China      18.979\n",
      "16496       16496  2013-06-01     Xian          China      23.522\n",
      "16497       16497  2013-07-01     Xian          China      25.251\n",
      "16498       16498  2013-08-01     Xian          China      24.528\n",
      "16499       16499  2013-09-01     Xian          China         NaN\n",
      "\n",
      "[16500 rows x 5 columns]\n",
      "         Unnamed: 0        date        country  avg_temp_c\n",
      "city                                                      \n",
      "Abidjan           0  2000-01-01  Côte D'Ivoire      27.293\n",
      "Abidjan           1  2000-02-01  Côte D'Ivoire      27.685\n",
      "Abidjan           2  2000-03-01  Côte D'Ivoire      29.061\n",
      "Abidjan           3  2000-04-01  Côte D'Ivoire      28.162\n",
      "Abidjan           4  2000-05-01  Côte D'Ivoire      27.547\n",
      "...             ...         ...            ...         ...\n",
      "Xian          16495  2013-05-01          China      18.979\n",
      "Xian          16496  2013-06-01          China      23.522\n",
      "Xian          16497  2013-07-01          China      25.251\n",
      "Xian          16498  2013-08-01          China      24.528\n",
      "Xian          16499  2013-09-01          China         NaN\n",
      "\n",
      "[16500 rows x 4 columns]\n",
      "          city  Unnamed: 0        date        country  avg_temp_c\n",
      "0      Abidjan           0  2000-01-01  Côte D'Ivoire      27.293\n",
      "1      Abidjan           1  2000-02-01  Côte D'Ivoire      27.685\n",
      "2      Abidjan           2  2000-03-01  Côte D'Ivoire      29.061\n",
      "3      Abidjan           3  2000-04-01  Côte D'Ivoire      28.162\n",
      "4      Abidjan           4  2000-05-01  Côte D'Ivoire      27.547\n",
      "...        ...         ...         ...            ...         ...\n",
      "16495     Xian       16495  2013-05-01          China      18.979\n",
      "16496     Xian       16496  2013-06-01          China      23.522\n",
      "16497     Xian       16497  2013-07-01          China      25.251\n",
      "16498     Xian       16498  2013-08-01          China      24.528\n",
      "16499     Xian       16499  2013-09-01          China         NaN\n",
      "\n",
      "[16500 rows x 5 columns]\n",
      "       Unnamed: 0        date        country  avg_temp_c\n",
      "0               0  2000-01-01  Côte D'Ivoire      27.293\n",
      "1               1  2000-02-01  Côte D'Ivoire      27.685\n",
      "2               2  2000-03-01  Côte D'Ivoire      29.061\n",
      "3               3  2000-04-01  Côte D'Ivoire      28.162\n",
      "4               4  2000-05-01  Côte D'Ivoire      27.547\n",
      "...           ...         ...            ...         ...\n",
      "16495       16495  2013-05-01          China      18.979\n",
      "16496       16496  2013-06-01          China      23.522\n",
      "16497       16497  2013-07-01          China      25.251\n",
      "16498       16498  2013-08-01          China      24.528\n",
      "16499       16499  2013-09-01          China         NaN\n",
      "\n",
      "[16500 rows x 4 columns]\n"
     ]
    }
   ],
   "source": [
    "# Look at temperatures\n",
    "print(temperatures)\n",
    "\n",
    "# Set the index of temperatures to city\n",
    "temperatures_ind = temperatures.set_index('city')\n",
    "\n",
    "# Look at temperatures_ind\n",
    "print(temperatures_ind)\n",
    "\n",
    "# Reset the temperatures_ind index, keeping its contents\n",
    "print(temperatures_ind.reset_index())\n",
    "\n",
    "# Reset the temperatures_ind index, dropping its contents\n",
    "print(temperatures_ind.reset_index(drop=True))"
   ]
  },
  {
   "cell_type": "code",
   "execution_count": 4,
   "id": "0924e69b-e499-4803-bfd2-8e95b3433677",
   "metadata": {},
   "outputs": [
    {
     "name": "stdout",
     "output_type": "stream",
     "text": [
      "       Unnamed: 0        date              city country  avg_temp_c\n",
      "10725       10725  2000-01-01            Moscow  Russia      -7.313\n",
      "10726       10726  2000-02-01            Moscow  Russia      -3.551\n",
      "10727       10727  2000-03-01            Moscow  Russia      -1.661\n",
      "10728       10728  2000-04-01            Moscow  Russia      10.096\n",
      "10729       10729  2000-05-01            Moscow  Russia      10.357\n",
      "...           ...         ...               ...     ...         ...\n",
      "13360       13360  2013-05-01  Saint Petersburg  Russia      12.355\n",
      "13361       13361  2013-06-01  Saint Petersburg  Russia      17.185\n",
      "13362       13362  2013-07-01  Saint Petersburg  Russia      17.234\n",
      "13363       13363  2013-08-01  Saint Petersburg  Russia      17.153\n",
      "13364       13364  2013-09-01  Saint Petersburg  Russia         NaN\n",
      "\n",
      "[330 rows x 5 columns]\n",
      "                  Unnamed: 0        date country  avg_temp_c\n",
      "city                                                        \n",
      "Moscow                 10725  2000-01-01  Russia      -7.313\n",
      "Moscow                 10726  2000-02-01  Russia      -3.551\n",
      "Moscow                 10727  2000-03-01  Russia      -1.661\n",
      "Moscow                 10728  2000-04-01  Russia      10.096\n",
      "Moscow                 10729  2000-05-01  Russia      10.357\n",
      "...                      ...         ...     ...         ...\n",
      "Saint Petersburg       13360  2013-05-01  Russia      12.355\n",
      "Saint Petersburg       13361  2013-06-01  Russia      17.185\n",
      "Saint Petersburg       13362  2013-07-01  Russia      17.234\n",
      "Saint Petersburg       13363  2013-08-01  Russia      17.153\n",
      "Saint Petersburg       13364  2013-09-01  Russia         NaN\n",
      "\n",
      "[330 rows x 4 columns]\n"
     ]
    }
   ],
   "source": [
    "# Make a list of cities to subset on\n",
    "cities = [\"Moscow\", \"Saint Petersburg\"]\n",
    "\n",
    "# Subset temperatures using square brackets\n",
    "print(temperatures[temperatures['city'].isin(cities)])\n",
    "\n",
    "# Subset temperatures_ind using .loc[]\n",
    "print(temperatures_ind.loc[cities])"
   ]
  },
  {
   "cell_type": "code",
   "execution_count": 5,
   "id": "a74e28bd-d394-4b61-855d-3bc0c963ba08",
   "metadata": {},
   "outputs": [
    {
     "name": "stdout",
     "output_type": "stream",
     "text": [
      "                         Unnamed: 0        date  avg_temp_c\n",
      "country  city                                              \n",
      "Brazil   Rio De Janeiro       12540  2000-01-01      25.974\n",
      "         Rio De Janeiro       12541  2000-02-01      26.699\n",
      "         Rio De Janeiro       12542  2000-03-01      26.270\n",
      "         Rio De Janeiro       12543  2000-04-01      25.750\n",
      "         Rio De Janeiro       12544  2000-05-01      24.356\n",
      "...                             ...         ...         ...\n",
      "Pakistan Lahore                8575  2013-05-01      33.457\n",
      "         Lahore                8576  2013-06-01      34.456\n",
      "         Lahore                8577  2013-07-01      33.279\n",
      "         Lahore                8578  2013-08-01      31.511\n",
      "         Lahore                8579  2013-09-01         NaN\n",
      "\n",
      "[330 rows x 3 columns]\n"
     ]
    }
   ],
   "source": [
    "# Index temperatures by country & city\n",
    "temperatures_ind = temperatures.set_index(['country','city'])\n",
    "\n",
    "# List of tuples: Brazil, Rio De Janeiro & Pakistan, Lahore\n",
    "rows_to_keep = [('Brazil','Rio De Janeiro'),('Pakistan','Lahore')]\n",
    "\n",
    "# Subset for rows to keep\n",
    "print(temperatures_ind.loc[rows_to_keep])"
   ]
  },
  {
   "cell_type": "code",
   "execution_count": 6,
   "id": "afc360ea-8724-4307-a01f-9d27f318300b",
   "metadata": {},
   "outputs": [
    {
     "name": "stdout",
     "output_type": "stream",
     "text": [
      "                    Unnamed: 0        date  avg_temp_c\n",
      "country     city                                      \n",
      "Afghanistan Kabul         7260  2000-01-01       3.326\n",
      "            Kabul         7261  2000-02-01       3.454\n",
      "            Kabul         7262  2000-03-01       9.612\n",
      "            Kabul         7263  2000-04-01      17.925\n",
      "            Kabul         7264  2000-05-01      24.658\n",
      "...                        ...         ...         ...\n",
      "Zimbabwe    Harare        5605  2013-05-01      18.298\n",
      "            Harare        5606  2013-06-01      17.020\n",
      "            Harare        5607  2013-07-01      16.299\n",
      "            Harare        5608  2013-08-01      19.232\n",
      "            Harare        5609  2013-09-01         NaN\n",
      "\n",
      "[16500 rows x 3 columns]\n",
      "                       Unnamed: 0        date  avg_temp_c\n",
      "country       city                                       \n",
      "Côte D'Ivoire Abidjan           0  2000-01-01      27.293\n",
      "              Abidjan           1  2000-02-01      27.685\n",
      "              Abidjan           2  2000-03-01      29.061\n",
      "              Abidjan           3  2000-04-01      28.162\n",
      "              Abidjan           4  2000-05-01      27.547\n",
      "...                           ...         ...         ...\n",
      "China         Xian          16495  2013-05-01      18.979\n",
      "              Xian          16496  2013-06-01      23.522\n",
      "              Xian          16497  2013-07-01      25.251\n",
      "              Xian          16498  2013-08-01      24.528\n",
      "              Xian          16499  2013-09-01         NaN\n",
      "\n",
      "[16500 rows x 3 columns]\n",
      "                    Unnamed: 0        date  avg_temp_c\n",
      "country     city                                      \n",
      "Afghanistan Kabul         7260  2000-01-01       3.326\n",
      "            Kabul         7261  2000-02-01       3.454\n",
      "            Kabul         7262  2000-03-01       9.612\n",
      "            Kabul         7263  2000-04-01      17.925\n",
      "            Kabul         7264  2000-05-01      24.658\n",
      "...                        ...         ...         ...\n",
      "Zimbabwe    Harare        5605  2013-05-01      18.298\n",
      "            Harare        5606  2013-06-01      17.020\n",
      "            Harare        5607  2013-07-01      16.299\n",
      "            Harare        5608  2013-08-01      19.232\n",
      "            Harare        5609  2013-09-01         NaN\n",
      "\n",
      "[16500 rows x 3 columns]\n"
     ]
    }
   ],
   "source": [
    "# Sort temperatures_ind by index values\n",
    "print(temperatures_ind.sort_index())\n",
    "\n",
    "# Sort temperatures_ind by index values at the city level\n",
    "print(temperatures_ind.sort_index(level='city'))\n",
    "\n",
    "# Sort temperatures_ind by country then descending city\n",
    "print(temperatures_ind.sort_index(level=['country','city'],ascending=[True,False]))"
   ]
  },
  {
   "cell_type": "code",
   "execution_count": 7,
   "id": "567cadf3-76f3-4deb-819a-8e04ebd3e0f9",
   "metadata": {},
   "outputs": [
    {
     "name": "stdout",
     "output_type": "stream",
     "text": [
      "                           Unnamed: 0        date  avg_temp_c\n",
      "country  city                                                \n",
      "Pakistan Faisalabad              4785  2000-01-01      12.792\n",
      "         Faisalabad              4786  2000-02-01      14.339\n",
      "         Faisalabad              4787  2000-03-01      20.309\n",
      "         Faisalabad              4788  2000-04-01      29.072\n",
      "         Faisalabad              4789  2000-05-01      34.845\n",
      "...                               ...         ...         ...\n",
      "Russia   Saint Petersburg       13360  2013-05-01      12.355\n",
      "         Saint Petersburg       13361  2013-06-01      17.185\n",
      "         Saint Petersburg       13362  2013-07-01      17.234\n",
      "         Saint Petersburg       13363  2013-08-01      17.153\n",
      "         Saint Petersburg       13364  2013-09-01         NaN\n",
      "\n",
      "[1155 rows x 3 columns]\n",
      "                    Unnamed: 0        date  avg_temp_c\n",
      "country city                                          \n",
      "Mexico  Mexico           10230  2000-01-01      12.694\n",
      "        Mexico           10231  2000-02-01      14.677\n",
      "        Mexico           10232  2000-03-01      17.376\n",
      "        Mexico           10233  2000-04-01      18.294\n",
      "        Mexico           10234  2000-05-01      18.562\n",
      "...                        ...         ...         ...\n",
      "Morocco Casablanca        3130  2013-05-01      19.217\n",
      "        Casablanca        3131  2013-06-01      23.649\n",
      "        Casablanca        3132  2013-07-01      27.488\n",
      "        Casablanca        3133  2013-08-01      27.952\n",
      "        Casablanca        3134  2013-09-01         NaN\n",
      "\n",
      "[330 rows x 3 columns]\n",
      "                 Unnamed: 0        date  avg_temp_c\n",
      "country  city                                      \n",
      "Pakistan Lahore        8415  2000-01-01      12.792\n",
      "         Lahore        8416  2000-02-01      14.339\n",
      "         Lahore        8417  2000-03-01      20.309\n",
      "         Lahore        8418  2000-04-01      29.072\n",
      "         Lahore        8419  2000-05-01      34.845\n",
      "...                     ...         ...         ...\n",
      "Russia   Moscow       10885  2013-05-01      16.152\n",
      "         Moscow       10886  2013-06-01      18.718\n",
      "         Moscow       10887  2013-07-01      18.136\n",
      "         Moscow       10888  2013-08-01      17.485\n",
      "         Moscow       10889  2013-09-01         NaN\n",
      "\n",
      "[660 rows x 3 columns]\n"
     ]
    }
   ],
   "source": [
    "# Sort the index of temperatures_ind\n",
    "temperatures_srt = temperatures_ind.sort_index()\n",
    "\n",
    "# Subset rows from Pakistan to Russia\n",
    "print(temperatures_srt.loc['Pakistan':'Russia'])\n",
    "# Try to subset rows from Lahore to Moscow\n",
    "print(temperatures_srt.loc['Lahore':'Moscow'])\n",
    "\n",
    "# Subset rows from Pakistan, Lahore to Russia, Moscow\n",
    "print(temperatures_srt.loc[('Pakistan','Lahore'):('Russia','Moscow')])\n"
   ]
  },
  {
   "cell_type": "code",
   "execution_count": 8,
   "id": "77f331b0-c117-401c-b27c-b80504954b75",
   "metadata": {},
   "outputs": [
    {
     "name": "stdout",
     "output_type": "stream",
     "text": [
      "                   Unnamed: 0        date  avg_temp_c\n",
      "country city                                         \n",
      "India   Hyderabad        5940  2000-01-01      23.779\n",
      "        Hyderabad        5941  2000-02-01      25.826\n",
      "        Hyderabad        5942  2000-03-01      28.821\n",
      "        Hyderabad        5943  2000-04-01      32.698\n",
      "        Hyderabad        5944  2000-05-01      32.438\n",
      "...                       ...         ...         ...\n",
      "Iraq    Baghdad          1150  2013-05-01      28.673\n",
      "        Baghdad          1151  2013-06-01      33.803\n",
      "        Baghdad          1152  2013-07-01      36.392\n",
      "        Baghdad          1153  2013-08-01      35.463\n",
      "        Baghdad          1154  2013-09-01         NaN\n",
      "\n",
      "[2145 rows x 3 columns]\n",
      "                          date  avg_temp_c\n",
      "country     city                          \n",
      "Afghanistan Kabul   2000-01-01       3.326\n",
      "            Kabul   2000-02-01       3.454\n",
      "            Kabul   2000-03-01       9.612\n",
      "            Kabul   2000-04-01      17.925\n",
      "            Kabul   2000-05-01      24.658\n",
      "...                        ...         ...\n",
      "Zimbabwe    Harare  2013-05-01      18.298\n",
      "            Harare  2013-06-01      17.020\n",
      "            Harare  2013-07-01      16.299\n",
      "            Harare  2013-08-01      19.232\n",
      "            Harare  2013-09-01         NaN\n",
      "\n",
      "[16500 rows x 2 columns]\n",
      "                         date  avg_temp_c\n",
      "country city                             \n",
      "India   Hyderabad  2000-01-01      23.779\n",
      "        Hyderabad  2000-02-01      25.826\n",
      "        Hyderabad  2000-03-01      28.821\n",
      "        Hyderabad  2000-04-01      32.698\n",
      "        Hyderabad  2000-05-01      32.438\n",
      "...                       ...         ...\n",
      "Iraq    Baghdad    2013-05-01      28.673\n",
      "        Baghdad    2013-06-01      33.803\n",
      "        Baghdad    2013-07-01      36.392\n",
      "        Baghdad    2013-08-01      35.463\n",
      "        Baghdad    2013-09-01         NaN\n",
      "\n",
      "[2145 rows x 2 columns]\n"
     ]
    }
   ],
   "source": [
    "# Subset rows from India, Hyderabad to Iraq, Baghdad\n",
    "print(temperatures_srt.loc[('India','Hyderabad'):('Iraq','Baghdad')])\n",
    "\n",
    "# Subset columns from date to avg_temp_c\n",
    "print(temperatures_srt.loc[:,'date':'avg_temp_c'])\n",
    "\n",
    "# Subset in both directions at once\n",
    "print(temperatures_srt.loc[('India','Hyderabad'):('Iraq','Baghdad'),'date':'avg_temp_c'])"
   ]
  },
  {
   "cell_type": "code",
   "execution_count": 9,
   "id": "1d1b804d-8f71-4598-a2e8-56e8ce7bed9a",
   "metadata": {},
   "outputs": [
    {
     "name": "stdout",
     "output_type": "stream",
     "text": [
      "       Unnamed: 0        date     city        country  avg_temp_c\n",
      "120           120  2010-01-01  Abidjan  Côte D'Ivoire      28.270\n",
      "121           121  2010-02-01  Abidjan  Côte D'Ivoire      29.262\n",
      "122           122  2010-03-01  Abidjan  Côte D'Ivoire      29.596\n",
      "123           123  2010-04-01  Abidjan  Côte D'Ivoire      29.068\n",
      "124           124  2010-05-01  Abidjan  Côte D'Ivoire      28.258\n",
      "...           ...         ...      ...            ...         ...\n",
      "16474       16474  2011-08-01     Xian          China      23.069\n",
      "16475       16475  2011-09-01     Xian          China      16.775\n",
      "16476       16476  2011-10-01     Xian          China      12.587\n",
      "16477       16477  2011-11-01     Xian          China       7.543\n",
      "16478       16478  2011-12-01     Xian          China      -0.490\n",
      "\n",
      "[2400 rows x 5 columns]\n",
      "            Unnamed: 0        city    country  avg_temp_c\n",
      "date                                                     \n",
      "2010-01-01        4905  Faisalabad   Pakistan      11.810\n",
      "2010-01-01       10185   Melbourne  Australia      20.016\n",
      "2010-01-01        3750   Chongqing      China       7.921\n",
      "2010-01-01       13155   São Paulo     Brazil      23.738\n",
      "2010-01-01        5400   Guangzhou      China      14.136\n",
      "...                ...         ...        ...         ...\n",
      "2010-12-01        6896     Jakarta  Indonesia      26.602\n",
      "2010-12-01        5246       Gizeh      Egypt      16.530\n",
      "2010-12-01       11186      Nagpur      India      19.120\n",
      "2010-12-01       14981      Sydney  Australia      19.559\n",
      "2010-12-01       13496    Salvador     Brazil      26.265\n",
      "\n",
      "[1200 rows x 4 columns]\n",
      "            Unnamed: 0           city        country  avg_temp_c\n",
      "date                                                            \n",
      "2010-08-01        2602       Calcutta          India      30.226\n",
      "2010-08-01       12337           Pune          India      24.941\n",
      "2010-08-01        6562          Izmir         Turkey      28.352\n",
      "2010-08-01       15637        Tianjin          China      25.543\n",
      "2010-08-01        9862         Manila    Philippines      27.101\n",
      "...                ...            ...            ...         ...\n",
      "2011-01-01        4257  Dar Es Salaam       Tanzania      28.541\n",
      "2011-01-01       11352        Nairobi          Kenya      17.768\n",
      "2011-01-01         297    Addis Abeba       Ethiopia      17.708\n",
      "2011-01-01       11517        Nanjing          China       0.144\n",
      "2011-01-01       11847       New York  United States      -4.463\n",
      "\n",
      "[600 rows x 4 columns]\n"
     ]
    }
   ],
   "source": [
    "# Use Boolean conditions to subset temperatures for rows in 2010 and 2011\n",
    "temperatures_bool = temperatures[(temperatures['date'] >= '2010-01-01') & (temperatures['date'] <= '2011-12-31')]\n",
    "print(temperatures_bool)\n",
    "\n",
    "# Set date as the index and sort the index\n",
    "temperatures_ind = temperatures.set_index('date').sort_index()\n",
    "\n",
    "# Use .loc[] to subset temperatures_ind for rows in 2010 and 2011\n",
    "print(temperatures_ind.loc['2010':'2011'])\n",
    "\n",
    "# Use .loc[] to subset temperatures_ind for rows from Aug 2010 to Feb 2011\n",
    "print(temperatures_ind.loc['2010-08':'2011-02'])"
   ]
  },
  {
   "cell_type": "code",
   "execution_count": 11,
   "id": "b9d68bf5-5c91-4977-bee5-928758c4d140",
   "metadata": {},
   "outputs": [
    {
     "name": "stdout",
     "output_type": "stream",
     "text": [
      "       city        country  avg_temp_c\n",
      "1   Abidjan  Côte D'Ivoire      27.685\n",
      "2   Abidjan  Côte D'Ivoire      29.061\n",
      "3   Abidjan  Côte D'Ivoire      28.162\n",
      "4   Abidjan  Côte D'Ivoire      27.547\n",
      "5   Abidjan  Côte D'Ivoire      25.812\n",
      "6   Abidjan  Côte D'Ivoire      24.870\n",
      "7   Abidjan  Côte D'Ivoire      24.884\n",
      "8   Abidjan  Côte D'Ivoire      25.405\n",
      "9   Abidjan  Côte D'Ivoire      26.074\n",
      "10  Abidjan  Côte D'Ivoire      27.315\n",
      "11  Abidjan  Côte D'Ivoire      26.929\n",
      "12  Abidjan  Côte D'Ivoire      26.920\n",
      "13  Abidjan  Côte D'Ivoire      28.234\n",
      "14  Abidjan  Côte D'Ivoire      28.706\n",
      "15  Abidjan  Côte D'Ivoire      27.702\n",
      "16  Abidjan  Côte D'Ivoire      27.653\n",
      "17  Abidjan  Côte D'Ivoire      25.940\n",
      "18  Abidjan  Côte D'Ivoire      24.841\n",
      "19  Abidjan  Côte D'Ivoire      24.280\n",
      "20  Abidjan  Côte D'Ivoire      24.797\n",
      "21  Abidjan  Côte D'Ivoire      26.278\n",
      "22  Abidjan  Côte D'Ivoire      27.374\n",
      "\n",
      "\n",
      "   Unnamed: 0        date     city        country  avg_temp_c\n",
      "0           0  2000-01-01  Abidjan  Côte D'Ivoire      27.293\n",
      "1           1  2000-02-01  Abidjan  Côte D'Ivoire      27.685\n",
      "2           2  2000-03-01  Abidjan  Côte D'Ivoire      29.061\n",
      "3           3  2000-04-01  Abidjan  Côte D'Ivoire      28.162\n",
      "4           4  2000-05-01  Abidjan  Côte D'Ivoire      27.547\n",
      "\n",
      "\n",
      "          city        country\n",
      "0      Abidjan  Côte D'Ivoire\n",
      "1      Abidjan  Côte D'Ivoire\n",
      "2      Abidjan  Côte D'Ivoire\n",
      "3      Abidjan  Côte D'Ivoire\n",
      "4      Abidjan  Côte D'Ivoire\n",
      "...        ...            ...\n",
      "16495     Xian          China\n",
      "16496     Xian          China\n",
      "16497     Xian          China\n",
      "16498     Xian          China\n",
      "16499     Xian          China\n",
      "\n",
      "[16500 rows x 2 columns]\n",
      "\n",
      "\n",
      "      city        country\n",
      "0  Abidjan  Côte D'Ivoire\n",
      "1  Abidjan  Côte D'Ivoire\n",
      "2  Abidjan  Côte D'Ivoire\n",
      "3  Abidjan  Côte D'Ivoire\n",
      "4  Abidjan  Côte D'Ivoire\n"
     ]
    }
   ],
   "source": [
    "# Get 23rd row, 2nd column (index 22, 1)\n",
    "print(temperatures.iloc[1:23,2:24])\n",
    "print('\\n')\n",
    "# Use slicing to get the first 5 rows\n",
    "print(temperatures.iloc[:5,:])\n",
    "print('\\n')\n",
    "# Use slicing to get columns 3 to 4\n",
    "print(temperatures.iloc[:,2:4])\n",
    "print('\\n')\n",
    "# Use slicing in both directions at once\n",
    "print(temperatures.iloc[:5,2:4])\n"
   ]
  },
  {
   "cell_type": "code",
   "execution_count": 16,
   "id": "f593cc30-2b5c-4a99-af29-15446244df9e",
   "metadata": {
    "collapsed": true,
    "jupyter": {
     "outputs_hidden": true
    },
    "tags": []
   },
   "outputs": [
    {
     "data": {
      "text/plain": [
       "\"\\n# Add a year column to temperatures\\ntemperatures['year']=temperatures['date'].dt.year\\n\\n# Pivot avg_temp_c by country and city vs year\\ntemp_by_country_city_vs_year = temperatures.pivot_table('avg_temp_c',index=['country','city'],columns='year')\\n\\n# See the result\\nprint(temp_by_country_city_vs_year)\\n\\n\""
      ]
     },
     "execution_count": 16,
     "metadata": {},
     "output_type": "execute_result"
    }
   ],
   "source": [
    "'''\n",
    "# Add a year column to temperatures\n",
    "temperatures['year']=temperatures['date'].dt.year\n",
    "\n",
    "# Pivot avg_temp_c by country and city vs year\n",
    "temp_by_country_city_vs_year = temperatures.pivot_table('avg_temp_c',index=['country','city'],columns='year')\n",
    "\n",
    "# See the result\n",
    "print(temp_by_country_city_vs_year)\n",
    "\n",
    "'''"
   ]
  },
  {
   "cell_type": "code",
   "execution_count": 19,
   "id": "2b3fea04-58be-4a90-8372-1fd7658cfd8d",
   "metadata": {
    "collapsed": true,
    "jupyter": {
     "outputs_hidden": true
    },
    "tags": []
   },
   "outputs": [
    {
     "data": {
      "text/plain": [
       "\"\\n# Subset for Egypt to India\\ntemp_by_country_city_vs_year.loc['Egypt':'India']\\n\\n# Subset for Egypt, Cairo to India, Delhi\\ntemp_by_country_city_vs_year.loc[('Egypt','Cairo'):('India','Delhi')]\\n\\n# Subset for Egypt, Cairo to India, Delhi, and 2005 to 2010\\ntemp_by_country_city_vs_year.loc[('Egypt','Cairo'):('India','Delhi'),'2005':'2010']\\n\\n\""
      ]
     },
     "execution_count": 19,
     "metadata": {},
     "output_type": "execute_result"
    }
   ],
   "source": [
    "'''\n",
    "# Subset for Egypt to India\n",
    "temp_by_country_city_vs_year.loc['Egypt':'India']\n",
    "\n",
    "# Subset for Egypt, Cairo to India, Delhi\n",
    "temp_by_country_city_vs_year.loc[('Egypt','Cairo'):('India','Delhi')]\n",
    "\n",
    "# Subset for Egypt, Cairo to India, Delhi, and 2005 to 2010\n",
    "temp_by_country_city_vs_year.loc[('Egypt','Cairo'):('India','Delhi'),'2005':'2010']\n",
    "\n",
    "'''"
   ]
  },
  {
   "cell_type": "code",
   "execution_count": 20,
   "id": "c3703458-8128-4371-a72e-557333cdf7b7",
   "metadata": {
    "collapsed": true,
    "jupyter": {
     "outputs_hidden": true
    },
    "tags": []
   },
   "outputs": [
    {
     "data": {
      "text/plain": [
       "\"\\n# Get the worldwide mean temp by year\\nmean_temp_by_year = temp_by_country_city_vs_year.mean()\\n\\n# Filter for the year that had the highest mean temp\\nprint(mean_temp_by_year[mean_temp_by_year==mean_temp_by_year.max()])\\n\\n# Get the mean temp by city\\nmean_temp_by_city = temp_by_country_city_vs_year.mean(axis='columns')\\n\\n# Filter for the city that had the lowest mean temp\\nprint(mean_temp_by_city[mean_temp_by_city==mean_temp_by_city.min()])\\n\\n\""
      ]
     },
     "execution_count": 20,
     "metadata": {},
     "output_type": "execute_result"
    }
   ],
   "source": [
    "'''\n",
    "# Get the worldwide mean temp by year\n",
    "mean_temp_by_year = temp_by_country_city_vs_year.mean()\n",
    "\n",
    "# Filter for the year that had the highest mean temp\n",
    "print(mean_temp_by_year[mean_temp_by_year==mean_temp_by_year.max()])\n",
    "\n",
    "# Get the mean temp by city\n",
    "mean_temp_by_city = temp_by_country_city_vs_year.mean(axis='columns')\n",
    "\n",
    "# Filter for the city that had the lowest mean temp\n",
    "print(mean_temp_by_city[mean_temp_by_city==mean_temp_by_city.min()])\n",
    "\n",
    "'''"
   ]
  },
  {
   "cell_type": "code",
   "execution_count": null,
   "id": "4232e709-3a41-4aa5-aa46-9f0515746eb9",
   "metadata": {},
   "outputs": [],
   "source": []
  }
 ],
 "metadata": {
  "kernelspec": {
   "display_name": "Python 3 (ipykernel)",
   "language": "python",
   "name": "python3"
  },
  "language_info": {
   "codemirror_mode": {
    "name": "ipython",
    "version": 3
   },
   "file_extension": ".py",
   "mimetype": "text/x-python",
   "name": "python",
   "nbconvert_exporter": "python",
   "pygments_lexer": "ipython3",
   "version": "3.9.8"
  }
 },
 "nbformat": 4,
 "nbformat_minor": 5
}
