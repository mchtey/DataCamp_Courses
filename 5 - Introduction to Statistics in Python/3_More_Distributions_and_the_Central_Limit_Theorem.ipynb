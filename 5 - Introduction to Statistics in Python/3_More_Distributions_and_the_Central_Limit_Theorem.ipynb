{
 "cells": [
  {
   "cell_type": "markdown",
   "id": "232b0bdc-b185-4a94-b0f7-31389e4a9ed0",
   "metadata": {},
   "source": [
    "# <font color=gray>**Introduction to Statistics in Python**</font>"
   ]
  },
  {
   "cell_type": "markdown",
   "id": "8adca45b-2f84-4e25-b7a1-fccd06eef365",
   "metadata": {},
   "source": [
    "### <font color=orange>**More Distributions and the Central Limit Theorem**</font>"
   ]
  },
  {
   "cell_type": "code",
   "execution_count": 2,
   "id": "65a3781a-3933-4341-9c2e-29ef47d28383",
   "metadata": {},
   "outputs": [],
   "source": [
    "import pandas as pd\n",
    "import numpy as np\n",
    "import matplotlib.pyplot as plt"
   ]
  },
  {
   "cell_type": "code",
   "execution_count": 4,
   "id": "8c9c7f3e-8b2e-4284-ad5b-d73c53a66602",
   "metadata": {},
   "outputs": [],
   "source": [
    "amir_deals=pd.read_csv('amir_deals.csv')"
   ]
  },
  {
   "cell_type": "code",
   "execution_count": 5,
   "id": "b5dc0c18-f122-45b9-9bb5-ff96e8e0b88e",
   "metadata": {},
   "outputs": [
    {
     "data": {
      "image/png": "[encoded data removed]",
      "text/plain": [
       "<Figure size 432x288 with 1 Axes>"
      ]
     },
     "metadata": {
      "needs_background": "light"
     },
     "output_type": "display_data"
    }
   ],
   "source": [
    "#Step1\n",
    "# Histogram of amount with 10 bins and show plot\n",
    "amir_deals['amount'].hist(bins=10)\n",
    "plt.show()"
   ]
  },
  {
   "cell_type": "code",
   "execution_count": 6,
   "id": "52a7f3ad-0bea-420a-9518-81da49ef85c2",
   "metadata": {},
   "outputs": [],
   "source": [
    "from scipy.stats import norm"
   ]
  },
  {
   "cell_type": "code",
   "execution_count": 7,
   "id": "74cbb84b-85b3-455e-b49b-65fd77255e9b",
   "metadata": {},
   "outputs": [
    {
     "name": "stdout",
     "output_type": "stream",
     "text": [
      "0.8943502263331446\n"
     ]
    }
   ],
   "source": [
    "#Step1\n",
    "# Probability of deal < 7500\n",
    "prob_less_7500 = norm.cdf(7500,5000,2000)\n",
    "\n",
    "print(prob_less_7500)"
   ]
  },
  {
   "cell_type": "code",
   "execution_count": 8,
   "id": "3d4609f5-0f17-4dde-8d6d-fb53280cea42",
   "metadata": {},
   "outputs": [
    {
     "name": "stdout",
     "output_type": "stream",
     "text": [
      "0.9772498680518208\n"
     ]
    }
   ],
   "source": [
    "# Probability of deal > 1000\n",
    "prob_over_1000 = 1-norm.cdf(1000,5000,2000)\n",
    "\n",
    "print(prob_over_1000)"
   ]
  },
  {
   "cell_type": "code",
   "execution_count": 9,
   "id": "6a627d97-a2aa-40ce-84a4-3ffebcbbe8c7",
   "metadata": {},
   "outputs": [
    {
     "name": "stdout",
     "output_type": "stream",
     "text": [
      "0.6826894921370859\n"
     ]
    }
   ],
   "source": [
    "# Probability of deal between 3000 and 7000\n",
    "prob_3000_to_7000 = norm.cdf(7000,5000,2000)-norm.cdf(3000,5000,2000)\n",
    "\n",
    "print(prob_3000_to_7000)"
   ]
  },
  {
   "cell_type": "code",
   "execution_count": 10,
   "id": "93cf9740-d0d7-4cd1-861d-3c1a362260ec",
   "metadata": {},
   "outputs": [
    {
     "name": "stdout",
     "output_type": "stream",
     "text": [
      "3651.0204996078364\n"
     ]
    }
   ],
   "source": [
    "# Calculate amount that 25% of deals will be less than\n",
    "pct_25 = norm.ppf(.25,5000,2000)\n",
    "\n",
    "print(pct_25)"
   ]
  },
  {
   "cell_type": "code",
   "execution_count": 11,
   "id": "f0745b95-7ed7-4a5c-97f6-b864b60af4a3",
   "metadata": {},
   "outputs": [
    {
     "data": {
      "image/png": "[encoded data removed]",
      "text/plain": [
       "<Figure size 432x288 with 1 Axes>"
      ]
     },
     "metadata": {
      "needs_background": "light"
     },
     "output_type": "display_data"
    }
   ],
   "source": [
    "# Calculate new average amount\n",
    "new_mean = 5000+5000*0.2\n",
    "\n",
    "# Calculate new standard deviation\n",
    "new_sd = 2000+2000*.3\n",
    "\n",
    "# Simulate 36 new sales\n",
    "new_sales = norm.rvs(new_mean,new_sd,size=36)\n",
    "\n",
    "# Create histogram and show\n",
    "plt.hist(new_sales)\n",
    "plt.show()"
   ]
  },
  {
   "cell_type": "markdown",
   "id": "6e8aafc9-b2d5-468a-a07f-e487e2c99c03",
   "metadata": {},
   "source": [
    "**Which market is better?**\n",
    "\n",
    "The key metric that the company uses to evaluate salespeople is the percent of sales they make over $1000 since the time put into each sale is usually worth a bit more than that, so the higher this metric, the better the salesperson is performing.\n",
    "\n",
    "Recall that Amir's current sales amounts have a mean of $5000 \n",
    "\n",
    "and a standard deviation of $2000, \n",
    "\n",
    "and Amir's predicted amounts in next quarter's market have a mean of $6000 \n",
    "\n",
    "and a standard deviation of $2600.\n",
    "\n",
    "norm from scipy.stats is imported.\n",
    "\n",
    "Based only on the metric of percent of sales over $1000, does Amir perform better in the current market or the predicted market?"
   ]
  },
  {
   "cell_type": "code",
   "execution_count": 12,
   "id": "a7823a84-445a-4fbb-9e4a-a2e9508340a3",
   "metadata": {},
   "outputs": [
    {
     "name": "stdout",
     "output_type": "stream",
     "text": [
      "0.9772498680518208\n",
      "0.9727648049862613\n"
     ]
    }
   ],
   "source": [
    "print(1-norm.cdf(1000,5000,2000))\n",
    "print(1-norm.cdf(1000,6000,2600))"
   ]
  },
  {
   "cell_type": "code",
   "execution_count": 13,
   "id": "c2a3fe07-5871-4556-816b-9ae26e44ce85",
   "metadata": {},
   "outputs": [
    {
     "data": {
      "image/png": "[encoded data removed]",
      "text/plain": [
       "<Figure size 432x288 with 1 Axes>"
      ]
     },
     "metadata": {
      "needs_background": "light"
     },
     "output_type": "display_data"
    }
   ],
   "source": [
    "#Step1\n",
    "# Create a histogram of num_users and show\n",
    "amir_deals['num_users'].hist()\n",
    "plt.show()"
   ]
  },
  {
   "cell_type": "code",
   "execution_count": 14,
   "id": "1ed3b5ef-dd44-4eb4-bb5a-b48d8b7af9c1",
   "metadata": {},
   "outputs": [
    {
     "name": "stdout",
     "output_type": "stream",
     "text": [
      "32.0\n"
     ]
    }
   ],
   "source": [
    "#Step2\n",
    "# Set seed to 104\n",
    "np.random.seed(104)\n",
    "\n",
    "# Sample 20 num_users with replacement from amir_deals\n",
    "samp_20 = amir_deals['num_users'].sample(20,replace=True)\n",
    "\n",
    "# Take mean of samp_20\n",
    "print(np.mean(samp_20))"
   ]
  },
  {
   "cell_type": "code",
   "execution_count": 16,
   "id": "5dd72691-dc02-48a7-8337-b74bf2ac16e2",
   "metadata": {},
   "outputs": [
    {
     "name": "stdout",
     "output_type": "stream",
     "text": [
      "[31.35, 45.05, 33.55, 38.15, 50.85, 31.85, 34.65, 36.25, 38.9, 44.05, 35.45, 37.6, 37.95, 28.85, 33.3, 31.65, 45.5, 43.2, 24.4, 41.05, 37.2, 39.3, 29.45, 33.55, 45.3, 45.1, 30.95, 36.25, 37.65, 42.55, 34.55, 41.1, 36.9, 42.45, 38.45, 45.9, 42.7, 38.4, 32.55, 30.25, 38.0, 38.75, 49.3, 39.55, 49.05, 42.05, 41.0, 40.6, 58.25, 34.55, 51.2, 34.15, 36.95, 42.45, 41.85, 33.2, 36.15, 37.55, 34.2, 29.75, 42.35, 43.75, 29.0, 32.05, 31.65, 44.6, 30.85, 29.6, 37.7, 33.1, 36.35, 40.65, 45.7, 33.8, 40.1, 39.9, 33.5, 32.65, 32.85, 42.85, 35.4, 31.7, 32.0, 33.85, 36.6, 44.35, 39.9, 37.0, 37.3, 42.5, 38.35, 42.8, 44.55, 30.3, 50.45, 42.35, 40.65, 29.85, 39.3, 33.1]\n"
     ]
    }
   ],
   "source": [
    "#Step3\n",
    "# Set seed to 104\n",
    "np.random.seed(104)\n",
    "\n",
    "# Sample 20 num_users with replacement from amir_deals and take mean\n",
    "samp_20 = amir_deals['num_users'].sample(20, replace=True)\n",
    "np.mean(samp_20)\n",
    "\n",
    "sample_means = []\n",
    "# Loop 100 times\n",
    "for i in range(100):\n",
    "  # Take sample of 20 num_users\n",
    "  samp_20 = amir_deals['num_users'].sample(20, replace=True)\n",
    "  # Calculate mean of samp_20\n",
    "  samp_20_mean = np.mean(samp_20)\n",
    "  # Append samp_20_mean to sample_means\n",
    "  sample_means.append(samp_20_mean)\n",
    "  \n",
    "print(sample_means)"
   ]
  },
  {
   "cell_type": "code",
   "execution_count": 18,
   "id": "71a45c4b-e3af-4452-806a-81d72443510e",
   "metadata": {},
   "outputs": [
    {
     "data": {
      "image/png": "[encoded data removed]",
      "text/plain": [
       "<Figure size 432x288 with 1 Axes>"
      ]
     },
     "metadata": {
      "needs_background": "light"
     },
     "output_type": "display_data"
    }
   ],
   "source": [
    "#Step4\n",
    "# Set seed to 104\n",
    "np.random.seed(104)\n",
    "\n",
    "sample_means = []\n",
    "# Loop 100 times\n",
    "for i in range(100):\n",
    "  # Take sample of 20 num_users\n",
    "  samp_20 = amir_deals['num_users'].sample(20, replace=True)\n",
    "  # Calculate mean of samp_20\n",
    "  samp_20_mean = np.mean(samp_20)\n",
    "  # Append samp_20_mean to sample_means\n",
    "  sample_means.append(samp_20_mean)\n",
    "\n",
    "# Convert to Series and plot histogram\n",
    "sample_means_series = pd.Series(sample_means)\n",
    "sample_means_series.hist()\n",
    "# Show plot\n",
    "plt.show()"
   ]
  },
  {
   "cell_type": "code",
   "execution_count": 19,
   "id": "5edd3c67-0bd2-4d76-9ab3-52ce1dbe01d0",
   "metadata": {
    "collapsed": true,
    "jupyter": {
     "outputs_hidden": true
    },
    "tags": []
   },
   "outputs": [
    {
     "ename": "NameError",
     "evalue": "name 'all_deals' is not defined",
     "output_type": "error",
     "traceback": [
      "\u001b[1;31m---------------------------------------------------------------------------\u001b[0m",
      "\u001b[1;31mNameError\u001b[0m                                 Traceback (most recent call last)",
      "Input \u001b[1;32mIn [19]\u001b[0m, in \u001b[0;36m<cell line: 6>\u001b[1;34m()\u001b[0m\n\u001b[0;32m      5\u001b[0m \u001b[38;5;66;03m# Loop 30 times to take 30 means\u001b[39;00m\n\u001b[0;32m      6\u001b[0m \u001b[38;5;28;01mfor\u001b[39;00m i \u001b[38;5;129;01min\u001b[39;00m \u001b[38;5;28mrange\u001b[39m(\u001b[38;5;241m30\u001b[39m):\n\u001b[0;32m      7\u001b[0m   \u001b[38;5;66;03m# Take sample of size 20 from num_users col of all_deals with replacement\u001b[39;00m\n\u001b[1;32m----> 8\u001b[0m   cur_sample \u001b[38;5;241m=\u001b[39m \u001b[43mall_deals\u001b[49m[\u001b[38;5;124m'\u001b[39m\u001b[38;5;124mnum_users\u001b[39m\u001b[38;5;124m'\u001b[39m]\u001b[38;5;241m.\u001b[39msample(\u001b[38;5;241m20\u001b[39m,replace\u001b[38;5;241m=\u001b[39m\u001b[38;5;28;01mTrue\u001b[39;00m)\n\u001b[0;32m      9\u001b[0m   \u001b[38;5;66;03m# Take mean of cur_sample\u001b[39;00m\n\u001b[0;32m     10\u001b[0m   cur_mean \u001b[38;5;241m=\u001b[39m np\u001b[38;5;241m.\u001b[39mmean(cur_sample)\n",
      "\u001b[1;31mNameError\u001b[0m: name 'all_deals' is not defined"
     ]
    }
   ],
   "source": [
    "# Set seed to 321\n",
    "np.random.seed(321)\n",
    "\n",
    "sample_means = []\n",
    "# Loop 30 times to take 30 means\n",
    "for i in range(30):\n",
    "  # Take sample of size 20 from num_users col of all_deals with replacement\n",
    "  cur_sample = all_deals['num_users'].sample(20,replace=True)\n",
    "  # Take mean of cur_sample\n",
    "  cur_mean = np.mean(cur_sample)\n",
    "  # Append cur_mean to sample_means\n",
    "  sample_means.append(cur_mean)\n",
    "\n",
    "# Print mean of sample_means\n",
    "print(np.mean(sample_means))\n",
    "\n",
    "# Print mean of num_users in amir_deals\n",
    "print(np.mean(amir_deals['num_users']))"
   ]
  },
  {
   "cell_type": "code",
   "execution_count": 20,
   "id": "46f46aeb-9901-4f9c-91e0-04df8ff0f1b1",
   "metadata": {},
   "outputs": [],
   "source": [
    "#Poisson"
   ]
  },
  {
   "cell_type": "code",
   "execution_count": 21,
   "id": "2bd9f40f-1b4e-47ff-8251-ee2d26fd0076",
   "metadata": {},
   "outputs": [
    {
     "name": "stdout",
     "output_type": "stream",
     "text": [
      "0.1562934518505317\n"
     ]
    }
   ],
   "source": [
    "#Step1\n",
    "# Import poisson from scipy.stats\n",
    "from scipy.stats import poisson\n",
    "\n",
    "# Probability of 5 responses\n",
    "prob_5 = poisson.pmf(5,4)\n",
    "\n",
    "print(prob_5)"
   ]
  },
  {
   "cell_type": "code",
   "execution_count": 25,
   "id": "7928c675-3740-4ae2-a3f9-048207c95524",
   "metadata": {},
   "outputs": [
    {
     "name": "stdout",
     "output_type": "stream",
     "text": [
      "0.17140068409793663\n"
     ]
    }
   ],
   "source": [
    "#Step2\n",
    "# Import poisson from scipy.stats\n",
    "from scipy.stats import poisson\n",
    "\n",
    "# Probability of 5 responses\n",
    "prob_coworker = poisson.pmf(5,5.5)\n",
    "\n",
    "print(prob_coworker)"
   ]
  },
  {
   "cell_type": "code",
   "execution_count": 24,
   "id": "9eab0524-88a6-45c8-b165-a60cdccaeec2",
   "metadata": {},
   "outputs": [
    {
     "name": "stdout",
     "output_type": "stream",
     "text": [
      "0.23810330555354436\n"
     ]
    }
   ],
   "source": [
    "#Step3\n",
    "# Import poisson from scipy.stats\n",
    "from scipy.stats import poisson\n",
    "\n",
    "# Probability of 2 or fewer responses\n",
    "prob_2_or_less = poisson.cdf(2,4)\n",
    "\n",
    "print(prob_2_or_less)"
   ]
  },
  {
   "cell_type": "code",
   "execution_count": 26,
   "id": "87bd51e7-d9f4-4f0d-89f9-8ea843a4c674",
   "metadata": {},
   "outputs": [
    {
     "name": "stdout",
     "output_type": "stream",
     "text": [
      "0.0028397661205137315\n"
     ]
    }
   ],
   "source": [
    "#Step4\n",
    "# Import poisson from scipy.stats\n",
    "from scipy.stats import poisson\n",
    "\n",
    "# Probability of > 10 responses\n",
    "prob_over_10 = 1-poisson.cdf(10,4)\n",
    "\n",
    "print(prob_over_10)"
   ]
  },
  {
   "cell_type": "code",
   "execution_count": 27,
   "id": "98dbe767-aa69-4a59-b0a9-a6bbb22c6f09",
   "metadata": {},
   "outputs": [],
   "source": [
    "#Expon"
   ]
  },
  {
   "cell_type": "code",
   "execution_count": 28,
   "id": "d7edae17-da52-472b-8a4d-e4e79d8188c3",
   "metadata": {},
   "outputs": [
    {
     "name": "stdout",
     "output_type": "stream",
     "text": [
      "0.3296799539643607\n"
     ]
    }
   ],
   "source": [
    "#step1\n",
    "# Import expon from scipy.stats\n",
    "from scipy.stats import expon\n",
    "\n",
    "# Print probability response takes < 1 hour\n",
    "print(expon.cdf(1, scale=2.5))"
   ]
  },
  {
   "cell_type": "code",
   "execution_count": 29,
   "id": "f7680cb6-b625-42d4-98d2-aa68acecc79a",
   "metadata": {},
   "outputs": [
    {
     "name": "stdout",
     "output_type": "stream",
     "text": [
      "0.20189651799465536\n"
     ]
    }
   ],
   "source": [
    "#Step2\n",
    "# Import expon from scipy.stats\n",
    "from scipy.stats import expon\n",
    "\n",
    "# Print probability response takes > 4 hours\n",
    "print(1-expon.cdf(4,scale=2.5))"
   ]
  },
  {
   "cell_type": "code",
   "execution_count": 30,
   "id": "d856242b-b565-425d-8b05-4e0fe133317b",
   "metadata": {},
   "outputs": [
    {
     "name": "stdout",
     "output_type": "stream",
     "text": [
      "-0.09929769391754684\n"
     ]
    }
   ],
   "source": [
    "#Step3\n",
    "# Import expon from scipy.stats\n",
    "from scipy.stats import expon\n",
    "\n",
    "# Print probability response takes 3-4 hours\n",
    "print(expon.cdf(3,scale=2.5) - expon.cdf(4,scale=2.5))"
   ]
  },
  {
   "cell_type": "code",
   "execution_count": null,
   "id": "e6f84699-772e-4533-b60d-bfb9acb48f25",
   "metadata": {},
   "outputs": [],
   "source": []
  }
 ],
 "metadata": {
  "kernelspec": {
   "display_name": "Python 3 (ipykernel)",
   "language": "python",
   "name": "python3"
  },
  "language_info": {
   "codemirror_mode": {
    "name": "ipython",
    "version": 3
   },
   "file_extension": ".py",
   "mimetype": "text/x-python",
   "name": "python",
   "nbconvert_exporter": "python",
   "pygments_lexer": "ipython3",
   "version": "3.9.8"
  }
 },
 "nbformat": 4,
 "nbformat_minor": 5
}
